{
  "nbformat": 4,
  "nbformat_minor": 0,
  "metadata": {
    "colab": {
      "provenance": [],
      "authorship_tag": "ABX9TyPvYZsGmZNnuqRWdlo/dpBu",
      "include_colab_link": true
    },
    "kernelspec": {
      "name": "python3",
      "display_name": "Python 3"
    },
    "language_info": {
      "name": "python"
    }
  },
  "cells": [
    {
      "cell_type": "markdown",
      "metadata": {
        "id": "view-in-github",
        "colab_type": "text"
      },
      "source": [
        "<a href=\"https://colab.research.google.com/github/revaza05/DataScraping/blob/master/extracting_data_from_news_website.ipynb\" target=\"_parent\"><img src=\"https://colab.research.google.com/assets/colab-badge.svg\" alt=\"Open In Colab\"/></a>"
      ]
    },
    {
      "cell_type": "code",
      "execution_count": 1,
      "metadata": {
        "id": "lNA_BDxNl50B"
      },
      "outputs": [],
      "source": [
        "from bs4 import BeautifulSoup\n",
        "import requests\n",
        "import pandas"
      ]
    },
    {
      "cell_type": "code",
      "source": [
        "url = 'https://www.nbcnews.com/news/world/us-targets-syria-iraq-attacked-at-least-23-past-two-weeks-rcna122780'"
      ],
      "metadata": {
        "id": "sxDI_iMpmDBW"
      },
      "execution_count": 21,
      "outputs": []
    },
    {
      "cell_type": "code",
      "source": [
        "news = requests.get(url)\n",
        "\n",
        "try:\n",
        "  news.raise_for_status()\n",
        "  print('succesfull')\n",
        "except requests.exceptions.HTTPError as err:\n",
        "    print(f\"HTTP error occurred: {err}\")\n",
        "\n",
        "\n",
        "soup = BeautifulSoup(news.text, 'html.parser')"
      ],
      "metadata": {
        "colab": {
          "base_uri": "https://localhost:8080/"
        },
        "id": "h_9Wpp84mLTK",
        "outputId": "22fde79a-2e1e-4fbe-d3d2-37b50a09c50d"
      },
      "execution_count": 22,
      "outputs": [
        {
          "output_type": "stream",
          "name": "stdout",
          "text": [
            "succesfull\n"
          ]
        }
      ]
    },
    {
      "cell_type": "code",
      "source": [
        "newstext = soup.find_all('div', class_ = 'article-body__content')\n",
        "newstext"
      ],
      "metadata": {
        "id": "JgiqjedHn8B9"
      },
      "execution_count": null,
      "outputs": []
    },
    {
      "cell_type": "code",
      "source": [
        "info_list = []\n",
        "for news in newstext:\n",
        "  title_text = news.text.strip()\n",
        "  info_list.append(title_text)"
      ],
      "metadata": {
        "id": "GAwAXpTtzGa1"
      },
      "execution_count": 63,
      "outputs": []
    },
    {
      "cell_type": "code",
      "source": [
        "info_list"
      ],
      "metadata": {
        "colab": {
          "base_uri": "https://localhost:8080/"
        },
        "id": "jlPNKTkK80Gl",
        "outputId": "88000361-9c1f-4058-b1bd-acc5039884f3"
      },
      "execution_count": 62,
      "outputs": [
        {
          "output_type": "execute_result",
          "data": {
            "text/plain": [
              "['U.S. targets in Iraq and Syria have been attacked at least 23 times since Oct. 17, a senior U.S. defense official said Monday.The attacks have been conducted primarily with rockets and drones, said the official, and 14 have been against U.S. targets in Iraq and nine against U.S. bases in Syria. The official did not report any U.S. injuries.At least four of the attacks have come since the U.S. launched retaliatory strikes on two Iranian-linked targets in Syria on Thursday.A senior U.S. military official said that the two locations hit by the U.S. were a weapons storage area and an ammunition storage area, and that the U.S. used precision munitions dropped by two F-16s. No casualties were detected, according to the senior defense official.Defense Secretary Lloyd Austin called the attacks launched by the U.S. last Thursday “separate and distinct from the ongoing conflict between Israel and Hamas” and said they don’t represent a shift in the U.S. approach to the conflict.Prior to retaliating, U.S. and coalition forces had been attacked at least 19 times in Iraq and Syria, according to defense officials. On Oct. 18, at least two one-way attack drones targeted al-Tanf military base in southern Syria, U.S. Central Command said. On the same day, there were two separate drone attacks against U.S. and coalition forces stationed at al-Asad base in western Iraq. One American civilian contractor died of a heart attack while sheltering in place, and 21 U.S. personnel suffered minor injuries, including 19 with traumatic brain injuries. All those injured have since returned to duty.On Friday, a defense official reported that another attack had occurred in Iraq, saying U.S. forces had shot down a one-way drone “a few kilometers” from the Asad base.The U.S. defines attacks as attempted strikes on U.S. facilities. Not all attempts actually reach the U.S. targets.\\xa0Brig. Gen. Pat Ryder, the Pentagon press secretary,\\xa0said last Tuesday that the groups conducting the attacks are supported by Iran and its Islamic Revolutionary Guard Corps.“We always reserve the right to defend ourselves, and we will never hesitate to take action when needed to protect our forces and our interests overseas,” he added.',\n",
              " 'Courtney KubeCourtney Kube is a correspondent covering national security and the military for the NBC News Investigative Unit.Mosheh GainsMosheh Gains is a Pentagon producer for NBC News.']"
            ]
          },
          "metadata": {},
          "execution_count": 62
        }
      ]
    }
  ]
}
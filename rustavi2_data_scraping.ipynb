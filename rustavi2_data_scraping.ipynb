{
  "nbformat": 4,
  "nbformat_minor": 0,
  "metadata": {
    "colab": {
      "provenance": [],
      "authorship_tag": "ABX9TyMI3vxyaL7KvqBB4A/39Euw",
      "include_colab_link": true
    },
    "kernelspec": {
      "name": "python3",
      "display_name": "Python 3"
    },
    "language_info": {
      "name": "python"
    }
  },
  "cells": [
    {
      "cell_type": "markdown",
      "metadata": {
        "id": "view-in-github",
        "colab_type": "text"
      },
      "source": [
        "<a href=\"https://colab.research.google.com/github/revaza05/DataScraping/blob/master/rustavi2_data_scraping.ipynb\" target=\"_parent\"><img src=\"https://colab.research.google.com/assets/colab-badge.svg\" alt=\"Open In Colab\"/></a>"
      ]
    },
    {
      "cell_type": "code",
      "execution_count": 1,
      "metadata": {
        "id": "Z_kfPgkwUA35"
      },
      "outputs": [],
      "source": [
        "from bs4 import BeautifulSoup\n",
        "import requests"
      ]
    },
    {
      "cell_type": "code",
      "source": [
        "url = 'https://rustavi2.ge/ka/news/268326'"
      ],
      "metadata": {
        "id": "kqjVWPwdUvAu"
      },
      "execution_count": 7,
      "outputs": []
    },
    {
      "cell_type": "code",
      "source": [
        "page = requests.get(url)\n",
        "\n",
        "try:\n",
        "  page.raise_for_status()\n",
        "  print('succesfuly')\n",
        "except requests.exceptions.HTTPError as err:\n",
        "  print(f\"HTTP error occurred: {err}\")\n"
      ],
      "metadata": {
        "colab": {
          "base_uri": "https://localhost:8080/"
        },
        "id": "cVcs5UKBUzTT",
        "outputId": "24ebaa6e-88c1-4791-b4d7-a3cffcce4019"
      },
      "execution_count": 8,
      "outputs": [
        {
          "output_type": "stream",
          "name": "stdout",
          "text": [
            "succesfuly\n"
          ]
        }
      ]
    },
    {
      "cell_type": "code",
      "source": [
        "soup = BeautifulSoup(page.text, 'html.parser')"
      ],
      "metadata": {
        "id": "lPg390x_WmOj"
      },
      "execution_count": 9,
      "outputs": []
    },
    {
      "cell_type": "code",
      "source": [
        "div_info = soup.find('div', class_ ='txt')"
      ],
      "metadata": {
        "id": "PA98eggVWres"
      },
      "execution_count": 10,
      "outputs": []
    },
    {
      "cell_type": "code",
      "source": [
        "info = str()\n",
        "for news in div_info:\n",
        "  title_text = news.text.strip()\n",
        "  info +=title_text"
      ],
      "metadata": {
        "id": "rxUsQFGXlDEZ"
      },
      "execution_count": 11,
      "outputs": []
    },
    {
      "cell_type": "code",
      "source": [
        "info"
      ],
      "metadata": {
        "colab": {
          "base_uri": "https://localhost:8080/",
          "height": 174
        },
        "id": "78W1ViaDHIoT",
        "outputId": "fff58f82-8061-4f56-f6eb-9a3c731ccbe1"
      },
      "execution_count": 14,
      "outputs": [
        {
          "output_type": "execute_result",
          "data": {
            "text/plain": [
              "'თიბისის მხარდაჭერით, პირველი ქართული პროფესიული ფრენჩაიზი „შავი ლომი“ ახალ, ისტორიულ სეზონს იწყებს. თიბისი ქართული რაგბის ნაკრების მსოფლიო ჩემპიონატზე გულშემატკივრობის შემდეგ კვლავ აქტიურად აგრძელებს ამ სპორტის ხელშეწყობას და ამჯერად „შავ ლომს“ ევროპის საკლუბო ტურნირზე დაუჭერს მხარს.\\xa0\\n„შავი ლომი“ წელს ზედიზედ ორ ევროპის საკლუბო ტურნირს ითამაშებს. გუნდი ევროპის სუპერ თასის ორგზის გამარჯვებულია და წელს გამარჯვებისთვის მესამედ იბრძოლებს, რის შემდეგაც, პირველად ისტორიაში, ქართული გუნდი ევროპის ჩელენჯ თასში ჩაერთვება. ევროპის პროფესიული საკლუბო რაგბის რანგით მეორე ტურნირში, ჩელენჯ თასში ჩართვა ქართული რაგბისთვის ძალიან მნიშვნელოვანია, რადგან თბილისს ევროპისა და მსოფლიოს სხვადასხვა უძლიერესი სარაგბო კლუბი ეწვევა. მთელი ამ ბრძოლის განმავლობაში, თიბისი გუნდს აქტიურად უგულშემატკივრებს და მორიგი მსოფლიო აღიარების მოპოვებაში დაეხმარება.\\nსუპერ თასში მონაწილეობას 8 გუნდი მიიღებს. თამაში განახლებული ფორმატით ჩატარდება. ტურნირის სადებიუტო თამაში 9 დეკემბერს თბილისში, მიხეილ მესხის სახელობის სტადიონზე გაიმართება და ქართული გუნდი ინგლისს დაუპირისპირდება.\\nმომდევნო ორი თამაში უელსსა და საფრანგეთთან შედგება, ტურნირი კი 20 იანვარს თბილისში, მიხეილ მესხის სახელობის სტადიონზე დასკვნითი ეტაპით დასრულდება.\\xa0\\nბილეთების შესაძენად ეწვიეთ ბმულს.\\n\\xa0\\n(R)'"
            ],
            "application/vnd.google.colaboratory.intrinsic+json": {
              "type": "string"
            }
          },
          "metadata": {},
          "execution_count": 14
        }
      ]
    }
  ]
}
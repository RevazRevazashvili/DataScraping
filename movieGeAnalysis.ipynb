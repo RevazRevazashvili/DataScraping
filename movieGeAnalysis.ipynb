{
  "nbformat": 4,
  "nbformat_minor": 0,
  "metadata": {
    "colab": {
      "provenance": [],
      "authorship_tag": "ABX9TyNXFsoBk3Onrl3CwA5kfRmq",
      "include_colab_link": true
    },
    "kernelspec": {
      "name": "python3",
      "display_name": "Python 3"
    },
    "language_info": {
      "name": "python"
    }
  },
  "cells": [
    {
      "cell_type": "markdown",
      "metadata": {
        "id": "view-in-github",
        "colab_type": "text"
      },
      "source": [
        "<a href=\"https://colab.research.google.com/github/RevazRevazashvili/DataScraping/blob/main/movieGeAnalysis.ipynb\" target=\"_parent\"><img src=\"https://colab.research.google.com/assets/colab-badge.svg\" alt=\"Open In Colab\"/></a>"
      ]
    },
    {
      "cell_type": "markdown",
      "source": [
        " Installing important packages"
      ],
      "metadata": {
        "id": "Isrs04GlvrkY"
      }
    },
    {
      "cell_type": "code",
      "execution_count": null,
      "metadata": {
        "id": "qKP4QEWdvTcg"
      },
      "outputs": [],
      "source": [
        "from bs4 import BeautifulSoup as bs\n",
        "import requests\n",
        "import pandas as pd\n",
        "import re\n",
        "from google.colab import files\n",
        "import matplotlib.pyplot as plt"
      ]
    },
    {
      "cell_type": "markdown",
      "source": [
        "define containers for information"
      ],
      "metadata": {
        "id": "E-CUNpTSw7tJ"
      }
    },
    {
      "cell_type": "code",
      "source": [
        "names = []\n",
        "imdb = []\n",
        "genre = []\n",
        "release_date = []\n",
        "director = []\n",
        "countrie = []\n",
        "budget = []\n",
        "income = []\n",
        "length = []\n",
        "film_length = []"
      ],
      "metadata": {
        "id": "JNtPu7QZ0GD4"
      },
      "execution_count": null,
      "outputs": []
    },
    {
      "cell_type": "code",
      "source": [
        "count = 1500"
      ],
      "metadata": {
        "id": "Qm_weIco0G5o"
      },
      "execution_count": null,
      "outputs": []
    },
    {
      "cell_type": "code",
      "source": [
        "# while count < 5500:\n",
        "#   url = f\"https://ge.movie/movie/{count}/the-hero\"\n",
        "\n",
        "#   response = requests.get(url)\n",
        "\n",
        "#   page = bs(response.text, \"html.parser\")\n",
        "\n",
        "#   name = page.select('h1>div')\n",
        "#   im = page.select('a>span')\n",
        "#   text = page.find_all('p', class_ = 'arial text-main desc')\n",
        "\n",
        "#   names.append(name[0].text)\n",
        "#   imdb.append(im[0].text)\n",
        "#   genre.append(text[0].text)\n",
        "#   release_date.append(text[1].text)\n",
        "#   director.append(text[2].text)\n",
        "#   length.append(text[3].text)\n",
        "#   countrie.append(text[4].text)\n",
        "\n",
        "#   count += 1\n"
      ],
      "metadata": {
        "id": "_XQ9cTYP0l1f"
      },
      "execution_count": null,
      "outputs": []
    },
    {
      "cell_type": "code",
      "source": [
        "length # it contains director length budget countrie and income information"
      ],
      "metadata": {
        "id": "uObBZgP4-ht9"
      },
      "execution_count": null,
      "outputs": []
    },
    {
      "cell_type": "markdown",
      "source": [
        "creating data frame and inserting information into it"
      ],
      "metadata": {
        "id": "HfhUad7bSl0x"
      }
    },
    {
      "cell_type": "code",
      "source": [
        "movies_info = pd.DataFrame()"
      ],
      "metadata": {
        "id": "_69Wphrb5uKC"
      },
      "execution_count": null,
      "outputs": []
    },
    {
      "cell_type": "code",
      "source": [
        "movies_info['names'] = names\n",
        "movies_info['genre'] = genre\n",
        "movies_info['imdb'] = imdb\n",
        "movies_info['length'] = length\n",
        "movies_info['release_date'] = release_date\n",
        "movies_info['director'] = director\n",
        "movies_info['countrie'] = countrie"
      ],
      "metadata": {
        "id": "OgF3evKdQ-DC"
      },
      "execution_count": null,
      "outputs": []
    },
    {
      "cell_type": "code",
      "source": [
        "release_date"
      ],
      "metadata": {
        "id": "FJkXSMm8IE-g"
      },
      "execution_count": null,
      "outputs": []
    },
    {
      "cell_type": "code",
      "source": [
        "movies_info.head()"
      ],
      "metadata": {
        "colab": {
          "base_uri": "https://localhost:8080/",
          "height": 293
        },
        "id": "gUkbcLhNeFhf",
        "outputId": "dfc495b6-6cc3-4577-e6dd-56da73674d1b"
      },
      "execution_count": null,
      "outputs": [
        {
          "output_type": "execute_result",
          "data": {
            "text/plain": [
              "                             names  \\\n",
              "0           \\nკონსტანტინი (2005)\\n   \n",
              "1        \\nკერკეტი კაკალი (1988)\\n   \n",
              "2  \\nვარსკვლავური დესანტი (1997)\\n   \n",
              "3                 \\nმუმია (1999)\\n   \n",
              "4                  \\nზარი (2002)\\n   \n",
              "\n",
              "                                               genre imdb  \\\n",
              "0  ჟანრი: დეტექტივი, დრამა, ფანტასტიკა, ფენტეზი, ...  7.0   \n",
              "1        ჟანრი: საახალწლო, თრილერი, მძაფრ-სიუჟეტიანი  8.2   \n",
              "2  ჟანრი: კრიმინალური, მძაფრ-სიუჟეტიანი, სათავგად...  7.3   \n",
              "3   ჟანრი: მძაფრ-სიუჟეტიანი, სათავგადასავლო, ფენტეზი  7.1   \n",
              "4          ჟანრი: დეტექტივი, საშინელებათა, დეტექტივი  7.1   \n",
              "\n",
              "                                              length  \\\n",
              "0  რეჟისორი: Francis Lawrence ხანგრძლივობა: 121 წ...   \n",
              "1  რეჟისორი: John McTiernan ხანგრძლივობა: 131 წთ ...   \n",
              "2  რეჟისორი: Paul Verhoeven ხანგრძლივობა: 129 წთ ...   \n",
              "3  რეჟისორი: Stephen Sommers ხანგრძლივობა: 124 წთ...   \n",
              "4  რეჟისორი: Gore Verbinski ხანგრძლივობა: 115 წთ ...   \n",
              "\n",
              "                                        release_date               director  \\\n",
              "0  სტუდია: Village Roadshow Pictures, DC Comics, ...  გამოშვების წელი: 2005   \n",
              "1  სტუდია: Gordon Company, Silver Pictures, 20th ...  გამოშვების წელი: 1988   \n",
              "2  სტუდია: Touchstone Pictures, TriStar Pictures,...  გამოშვების წელი: 1997   \n",
              "3       სტუდია: Universal Pictures, Alphaville Films  გამოშვების წელი: 1999   \n",
              "4  სტუდია: BenderSpink, Parkes+MacDonald Image Na...  გამოშვების წელი: 2002   \n",
              "\n",
              "               countrie  \n",
              "0  ხანგრძლივობა: 121 წთ  \n",
              "1  ხანგრძლივობა: 131 წთ  \n",
              "2  ხანგრძლივობა: 129 წთ  \n",
              "3  ხანგრძლივობა: 124 წთ  \n",
              "4  ხანგრძლივობა: 115 წთ  "
            ],
            "text/html": [
              "\n",
              "  <div id=\"df-81875c4a-cb2b-48c9-9c13-49beba2c8a99\" class=\"colab-df-container\">\n",
              "    <div>\n",
              "<style scoped>\n",
              "    .dataframe tbody tr th:only-of-type {\n",
              "        vertical-align: middle;\n",
              "    }\n",
              "\n",
              "    .dataframe tbody tr th {\n",
              "        vertical-align: top;\n",
              "    }\n",
              "\n",
              "    .dataframe thead th {\n",
              "        text-align: right;\n",
              "    }\n",
              "</style>\n",
              "<table border=\"1\" class=\"dataframe\">\n",
              "  <thead>\n",
              "    <tr style=\"text-align: right;\">\n",
              "      <th></th>\n",
              "      <th>names</th>\n",
              "      <th>genre</th>\n",
              "      <th>imdb</th>\n",
              "      <th>length</th>\n",
              "      <th>release_date</th>\n",
              "      <th>director</th>\n",
              "      <th>countrie</th>\n",
              "    </tr>\n",
              "  </thead>\n",
              "  <tbody>\n",
              "    <tr>\n",
              "      <th>0</th>\n",
              "      <td>\\nკონსტანტინი (2005)\\n</td>\n",
              "      <td>ჟანრი: დეტექტივი, დრამა, ფანტასტიკა, ფენტეზი, ...</td>\n",
              "      <td>7.0</td>\n",
              "      <td>რეჟისორი: Francis Lawrence ხანგრძლივობა: 121 წ...</td>\n",
              "      <td>სტუდია: Village Roadshow Pictures, DC Comics, ...</td>\n",
              "      <td>გამოშვების წელი: 2005</td>\n",
              "      <td>ხანგრძლივობა: 121 წთ</td>\n",
              "    </tr>\n",
              "    <tr>\n",
              "      <th>1</th>\n",
              "      <td>\\nკერკეტი კაკალი (1988)\\n</td>\n",
              "      <td>ჟანრი: საახალწლო, თრილერი, მძაფრ-სიუჟეტიანი</td>\n",
              "      <td>8.2</td>\n",
              "      <td>რეჟისორი: John McTiernan ხანგრძლივობა: 131 წთ ...</td>\n",
              "      <td>სტუდია: Gordon Company, Silver Pictures, 20th ...</td>\n",
              "      <td>გამოშვების წელი: 1988</td>\n",
              "      <td>ხანგრძლივობა: 131 წთ</td>\n",
              "    </tr>\n",
              "    <tr>\n",
              "      <th>2</th>\n",
              "      <td>\\nვარსკვლავური დესანტი (1997)\\n</td>\n",
              "      <td>ჟანრი: კრიმინალური, მძაფრ-სიუჟეტიანი, სათავგად...</td>\n",
              "      <td>7.3</td>\n",
              "      <td>რეჟისორი: Paul Verhoeven ხანგრძლივობა: 129 წთ ...</td>\n",
              "      <td>სტუდია: Touchstone Pictures, TriStar Pictures,...</td>\n",
              "      <td>გამოშვების წელი: 1997</td>\n",
              "      <td>ხანგრძლივობა: 129 წთ</td>\n",
              "    </tr>\n",
              "    <tr>\n",
              "      <th>3</th>\n",
              "      <td>\\nმუმია (1999)\\n</td>\n",
              "      <td>ჟანრი: მძაფრ-სიუჟეტიანი, სათავგადასავლო, ფენტეზი</td>\n",
              "      <td>7.1</td>\n",
              "      <td>რეჟისორი: Stephen Sommers ხანგრძლივობა: 124 წთ...</td>\n",
              "      <td>სტუდია: Universal Pictures, Alphaville Films</td>\n",
              "      <td>გამოშვების წელი: 1999</td>\n",
              "      <td>ხანგრძლივობა: 124 წთ</td>\n",
              "    </tr>\n",
              "    <tr>\n",
              "      <th>4</th>\n",
              "      <td>\\nზარი (2002)\\n</td>\n",
              "      <td>ჟანრი: დეტექტივი, საშინელებათა, დეტექტივი</td>\n",
              "      <td>7.1</td>\n",
              "      <td>რეჟისორი: Gore Verbinski ხანგრძლივობა: 115 წთ ...</td>\n",
              "      <td>სტუდია: BenderSpink, Parkes+MacDonald Image Na...</td>\n",
              "      <td>გამოშვების წელი: 2002</td>\n",
              "      <td>ხანგრძლივობა: 115 წთ</td>\n",
              "    </tr>\n",
              "  </tbody>\n",
              "</table>\n",
              "</div>\n",
              "    <div class=\"colab-df-buttons\">\n",
              "\n",
              "  <div class=\"colab-df-container\">\n",
              "    <button class=\"colab-df-convert\" onclick=\"convertToInteractive('df-81875c4a-cb2b-48c9-9c13-49beba2c8a99')\"\n",
              "            title=\"Convert this dataframe to an interactive table.\"\n",
              "            style=\"display:none;\">\n",
              "\n",
              "  <svg xmlns=\"http://www.w3.org/2000/svg\" height=\"24px\" viewBox=\"0 -960 960 960\">\n",
              "    <path d=\"M120-120v-720h720v720H120Zm60-500h600v-160H180v160Zm220 220h160v-160H400v160Zm0 220h160v-160H400v160ZM180-400h160v-160H180v160Zm440 0h160v-160H620v160ZM180-180h160v-160H180v160Zm440 0h160v-160H620v160Z\"/>\n",
              "  </svg>\n",
              "    </button>\n",
              "\n",
              "  <style>\n",
              "    .colab-df-container {\n",
              "      display:flex;\n",
              "      gap: 12px;\n",
              "    }\n",
              "\n",
              "    .colab-df-convert {\n",
              "      background-color: #E8F0FE;\n",
              "      border: none;\n",
              "      border-radius: 50%;\n",
              "      cursor: pointer;\n",
              "      display: none;\n",
              "      fill: #1967D2;\n",
              "      height: 32px;\n",
              "      padding: 0 0 0 0;\n",
              "      width: 32px;\n",
              "    }\n",
              "\n",
              "    .colab-df-convert:hover {\n",
              "      background-color: #E2EBFA;\n",
              "      box-shadow: 0px 1px 2px rgba(60, 64, 67, 0.3), 0px 1px 3px 1px rgba(60, 64, 67, 0.15);\n",
              "      fill: #174EA6;\n",
              "    }\n",
              "\n",
              "    .colab-df-buttons div {\n",
              "      margin-bottom: 4px;\n",
              "    }\n",
              "\n",
              "    [theme=dark] .colab-df-convert {\n",
              "      background-color: #3B4455;\n",
              "      fill: #D2E3FC;\n",
              "    }\n",
              "\n",
              "    [theme=dark] .colab-df-convert:hover {\n",
              "      background-color: #434B5C;\n",
              "      box-shadow: 0px 1px 3px 1px rgba(0, 0, 0, 0.15);\n",
              "      filter: drop-shadow(0px 1px 2px rgba(0, 0, 0, 0.3));\n",
              "      fill: #FFFFFF;\n",
              "    }\n",
              "  </style>\n",
              "\n",
              "    <script>\n",
              "      const buttonEl =\n",
              "        document.querySelector('#df-81875c4a-cb2b-48c9-9c13-49beba2c8a99 button.colab-df-convert');\n",
              "      buttonEl.style.display =\n",
              "        google.colab.kernel.accessAllowed ? 'block' : 'none';\n",
              "\n",
              "      async function convertToInteractive(key) {\n",
              "        const element = document.querySelector('#df-81875c4a-cb2b-48c9-9c13-49beba2c8a99');\n",
              "        const dataTable =\n",
              "          await google.colab.kernel.invokeFunction('convertToInteractive',\n",
              "                                                    [key], {});\n",
              "        if (!dataTable) return;\n",
              "\n",
              "        const docLinkHtml = 'Like what you see? Visit the ' +\n",
              "          '<a target=\"_blank\" href=https://colab.research.google.com/notebooks/data_table.ipynb>data table notebook</a>'\n",
              "          + ' to learn more about interactive tables.';\n",
              "        element.innerHTML = '';\n",
              "        dataTable['output_type'] = 'display_data';\n",
              "        await google.colab.output.renderOutput(dataTable, element);\n",
              "        const docLink = document.createElement('div');\n",
              "        docLink.innerHTML = docLinkHtml;\n",
              "        element.appendChild(docLink);\n",
              "      }\n",
              "    </script>\n",
              "  </div>\n",
              "\n",
              "\n",
              "<div id=\"df-f49be719-41b8-474e-9ca0-8c886576e660\">\n",
              "  <button class=\"colab-df-quickchart\" onclick=\"quickchart('df-f49be719-41b8-474e-9ca0-8c886576e660')\"\n",
              "            title=\"Suggest charts\"\n",
              "            style=\"display:none;\">\n",
              "\n",
              "<svg xmlns=\"http://www.w3.org/2000/svg\" height=\"24px\"viewBox=\"0 0 24 24\"\n",
              "     width=\"24px\">\n",
              "    <g>\n",
              "        <path d=\"M19 3H5c-1.1 0-2 .9-2 2v14c0 1.1.9 2 2 2h14c1.1 0 2-.9 2-2V5c0-1.1-.9-2-2-2zM9 17H7v-7h2v7zm4 0h-2V7h2v10zm4 0h-2v-4h2v4z\"/>\n",
              "    </g>\n",
              "</svg>\n",
              "  </button>\n",
              "\n",
              "<style>\n",
              "  .colab-df-quickchart {\n",
              "      --bg-color: #E8F0FE;\n",
              "      --fill-color: #1967D2;\n",
              "      --hover-bg-color: #E2EBFA;\n",
              "      --hover-fill-color: #174EA6;\n",
              "      --disabled-fill-color: #AAA;\n",
              "      --disabled-bg-color: #DDD;\n",
              "  }\n",
              "\n",
              "  [theme=dark] .colab-df-quickchart {\n",
              "      --bg-color: #3B4455;\n",
              "      --fill-color: #D2E3FC;\n",
              "      --hover-bg-color: #434B5C;\n",
              "      --hover-fill-color: #FFFFFF;\n",
              "      --disabled-bg-color: #3B4455;\n",
              "      --disabled-fill-color: #666;\n",
              "  }\n",
              "\n",
              "  .colab-df-quickchart {\n",
              "    background-color: var(--bg-color);\n",
              "    border: none;\n",
              "    border-radius: 50%;\n",
              "    cursor: pointer;\n",
              "    display: none;\n",
              "    fill: var(--fill-color);\n",
              "    height: 32px;\n",
              "    padding: 0;\n",
              "    width: 32px;\n",
              "  }\n",
              "\n",
              "  .colab-df-quickchart:hover {\n",
              "    background-color: var(--hover-bg-color);\n",
              "    box-shadow: 0 1px 2px rgba(60, 64, 67, 0.3), 0 1px 3px 1px rgba(60, 64, 67, 0.15);\n",
              "    fill: var(--button-hover-fill-color);\n",
              "  }\n",
              "\n",
              "  .colab-df-quickchart-complete:disabled,\n",
              "  .colab-df-quickchart-complete:disabled:hover {\n",
              "    background-color: var(--disabled-bg-color);\n",
              "    fill: var(--disabled-fill-color);\n",
              "    box-shadow: none;\n",
              "  }\n",
              "\n",
              "  .colab-df-spinner {\n",
              "    border: 2px solid var(--fill-color);\n",
              "    border-color: transparent;\n",
              "    border-bottom-color: var(--fill-color);\n",
              "    animation:\n",
              "      spin 1s steps(1) infinite;\n",
              "  }\n",
              "\n",
              "  @keyframes spin {\n",
              "    0% {\n",
              "      border-color: transparent;\n",
              "      border-bottom-color: var(--fill-color);\n",
              "      border-left-color: var(--fill-color);\n",
              "    }\n",
              "    20% {\n",
              "      border-color: transparent;\n",
              "      border-left-color: var(--fill-color);\n",
              "      border-top-color: var(--fill-color);\n",
              "    }\n",
              "    30% {\n",
              "      border-color: transparent;\n",
              "      border-left-color: var(--fill-color);\n",
              "      border-top-color: var(--fill-color);\n",
              "      border-right-color: var(--fill-color);\n",
              "    }\n",
              "    40% {\n",
              "      border-color: transparent;\n",
              "      border-right-color: var(--fill-color);\n",
              "      border-top-color: var(--fill-color);\n",
              "    }\n",
              "    60% {\n",
              "      border-color: transparent;\n",
              "      border-right-color: var(--fill-color);\n",
              "    }\n",
              "    80% {\n",
              "      border-color: transparent;\n",
              "      border-right-color: var(--fill-color);\n",
              "      border-bottom-color: var(--fill-color);\n",
              "    }\n",
              "    90% {\n",
              "      border-color: transparent;\n",
              "      border-bottom-color: var(--fill-color);\n",
              "    }\n",
              "  }\n",
              "</style>\n",
              "\n",
              "  <script>\n",
              "    async function quickchart(key) {\n",
              "      const quickchartButtonEl =\n",
              "        document.querySelector('#' + key + ' button');\n",
              "      quickchartButtonEl.disabled = true;  // To prevent multiple clicks.\n",
              "      quickchartButtonEl.classList.add('colab-df-spinner');\n",
              "      try {\n",
              "        const charts = await google.colab.kernel.invokeFunction(\n",
              "            'suggestCharts', [key], {});\n",
              "      } catch (error) {\n",
              "        console.error('Error during call to suggestCharts:', error);\n",
              "      }\n",
              "      quickchartButtonEl.classList.remove('colab-df-spinner');\n",
              "      quickchartButtonEl.classList.add('colab-df-quickchart-complete');\n",
              "    }\n",
              "    (() => {\n",
              "      let quickchartButtonEl =\n",
              "        document.querySelector('#df-f49be719-41b8-474e-9ca0-8c886576e660 button');\n",
              "      quickchartButtonEl.style.display =\n",
              "        google.colab.kernel.accessAllowed ? 'block' : 'none';\n",
              "    })();\n",
              "  </script>\n",
              "</div>\n",
              "\n",
              "    </div>\n",
              "  </div>\n"
            ]
          },
          "metadata": {},
          "execution_count": 29
        }
      ]
    },
    {
      "cell_type": "code",
      "source": [
        "# to download csv file on local\n",
        "# def downloader(s):\n",
        "#   s.to_csv(s, index=False)\n",
        "#   files.download(s)"
      ],
      "metadata": {
        "id": "bTm3krNMBCxS"
      },
      "execution_count": null,
      "outputs": []
    },
    {
      "cell_type": "markdown",
      "source": [
        "# Data Processing"
      ],
      "metadata": {
        "id": "2OQKLDnxS3VB"
      }
    },
    {
      "cell_type": "code",
      "source": [
        "year = [i.split()[-1] for i in movies_info['director']]"
      ],
      "metadata": {
        "id": "yLkqt6Z-aJy5"
      },
      "execution_count": null,
      "outputs": []
    },
    {
      "cell_type": "code",
      "source": [
        "pattern = r\"რეჟისორი: (.*?) ხანგრძლივობა: (\\d+) წთ ქვეყანა: (.*?) ბიუჯეტი: \\$ ([\\d,]+) შემოსავალი: \\$ ([\\d,]+)\"\n",
        "d = []\n",
        "du = []\n",
        "c = []\n",
        "b = []\n",
        "r = []\n",
        "for text in movies_info['length']:\n",
        "  match = re.search(pattern, text)\n",
        "  if match:\n",
        "      d.append(match.group(1))\n",
        "      du.append(match.group(2))\n",
        "      c.append(match.group(3))\n",
        "      b.append(match.group(4))\n",
        "      r.append(match.group(5))\n",
        "  else:\n",
        "    d.append(None)\n",
        "    du.append(None)\n",
        "    c.append(None)\n",
        "    b.append(None)\n",
        "    r.append(None)"
      ],
      "metadata": {
        "id": "rwQnvLla1Nmr"
      },
      "execution_count": null,
      "outputs": []
    },
    {
      "cell_type": "code",
      "source": [
        "for i in names:\n",
        "  name.append(re.sub(r'\\([^)]*\\)', '', i).strip())\n",
        "len(name)"
      ],
      "metadata": {
        "id": "bQ5dUvtNnYE8"
      },
      "execution_count": null,
      "outputs": []
    },
    {
      "cell_type": "code",
      "source": [
        "len(c)"
      ],
      "metadata": {
        "colab": {
          "base_uri": "https://localhost:8080/"
        },
        "id": "Fv1FwxUGugEx",
        "outputId": "e15408f0-29e7-42b8-cd0a-63bc55f2f075"
      },
      "execution_count": null,
      "outputs": [
        {
          "output_type": "execute_result",
          "data": {
            "text/plain": [
              "4000"
            ]
          },
          "metadata": {},
          "execution_count": 277
        }
      ]
    },
    {
      "cell_type": "code",
      "source": [
        "filtered_movies_df = pd.DataFrame()"
      ],
      "metadata": {
        "id": "ygPNHObxt2hP"
      },
      "execution_count": null,
      "outputs": []
    },
    {
      "cell_type": "code",
      "source": [
        "filtered_movies_df['name'] = name\n",
        "filtered_movies_df['genre'] = genre\n",
        "filtered_movies_df['imdb'] = imdb\n",
        "filtered_movies_df['duration'] = du\n",
        "filtered_movies_df['year'] = year\n",
        "filtered_movies_df['director'] = d\n",
        "filtered_movies_df['country'] = c\n",
        "filtered_movies_df['budget'] = b\n",
        "filtered_movies_df['revenue'] = r"
      ],
      "metadata": {
        "id": "imj1Y2U_uKRf"
      },
      "execution_count": null,
      "outputs": []
    },
    {
      "cell_type": "code",
      "source": [
        "filtered_movies_df.to_csv('filtered_movies_df.csv', index=False)\n",
        "files.download('filtered_movies_df.csv')"
      ],
      "metadata": {
        "colab": {
          "base_uri": "https://localhost:8080/",
          "height": 17
        },
        "id": "tXXCNQ1Kv12O",
        "outputId": "63cba829-9c8b-4645-b524-fbaee485b09a"
      },
      "execution_count": null,
      "outputs": [
        {
          "output_type": "display_data",
          "data": {
            "text/plain": [
              "<IPython.core.display.Javascript object>"
            ],
            "application/javascript": [
              "\n",
              "    async function download(id, filename, size) {\n",
              "      if (!google.colab.kernel.accessAllowed) {\n",
              "        return;\n",
              "      }\n",
              "      const div = document.createElement('div');\n",
              "      const label = document.createElement('label');\n",
              "      label.textContent = `Downloading \"${filename}\": `;\n",
              "      div.appendChild(label);\n",
              "      const progress = document.createElement('progress');\n",
              "      progress.max = size;\n",
              "      div.appendChild(progress);\n",
              "      document.body.appendChild(div);\n",
              "\n",
              "      const buffers = [];\n",
              "      let downloaded = 0;\n",
              "\n",
              "      const channel = await google.colab.kernel.comms.open(id);\n",
              "      // Send a message to notify the kernel that we're ready.\n",
              "      channel.send({})\n",
              "\n",
              "      for await (const message of channel.messages) {\n",
              "        // Send a message to notify the kernel that we're ready.\n",
              "        channel.send({})\n",
              "        if (message.buffers) {\n",
              "          for (const buffer of message.buffers) {\n",
              "            buffers.push(buffer);\n",
              "            downloaded += buffer.byteLength;\n",
              "            progress.value = downloaded;\n",
              "          }\n",
              "        }\n",
              "      }\n",
              "      const blob = new Blob(buffers, {type: 'application/binary'});\n",
              "      const a = document.createElement('a');\n",
              "      a.href = window.URL.createObjectURL(blob);\n",
              "      a.download = filename;\n",
              "      div.appendChild(a);\n",
              "      a.click();\n",
              "      div.remove();\n",
              "    }\n",
              "  "
            ]
          },
          "metadata": {}
        },
        {
          "output_type": "display_data",
          "data": {
            "text/plain": [
              "<IPython.core.display.Javascript object>"
            ],
            "application/javascript": [
              "download(\"download_7f826c5e-f895-4d64-b9bd-f287b1be083c\", \"filtered_movies_df.csv\", 674957)"
            ]
          },
          "metadata": {}
        }
      ]
    },
    {
      "cell_type": "markdown",
      "source": [
        "# Data Analysis"
      ],
      "metadata": {
        "id": "ON9dk0So7dcZ"
      }
    },
    {
      "cell_type": "code",
      "source": [
        "filtered_movies_df.head()"
      ],
      "metadata": {
        "colab": {
          "base_uri": "https://localhost:8080/",
          "height": 206
        },
        "id": "zhIDIdLov55v",
        "outputId": "74a8797a-55ea-4441-bb07-5d1d252df940"
      },
      "execution_count": null,
      "outputs": [
        {
          "output_type": "execute_result",
          "data": {
            "text/plain": [
              "                   name                                              genre  \\\n",
              "0           კონსტანტინი  დეტექტივი, დრამა, ფანტასტიკა, ფენტეზი, საშინელ...   \n",
              "1        კერკეტი კაკალი               საახალწლო, თრილერი, მძაფრ-სიუჟეტიანი   \n",
              "2  ვარსკვლავური დესანტი  კრიმინალური, მძაფრ-სიუჟეტიანი, სათავგადასავლო,...   \n",
              "3                 მუმია          მძაფრ-სიუჟეტიანი, სათავგადასავლო, ფენტეზი   \n",
              "4                  ზარი                 დეტექტივი, საშინელებათა, დეტექტივი   \n",
              "\n",
              "  imdb duration  year          director  country       budget      revenue  \n",
              "0  7.0      121  2005  Francis Lawrence      აშშ  100,000,000  230,884,728  \n",
              "1  8.2      131  1988    John McTiernan      აშშ   28,000,000  140,767,956  \n",
              "2  7.3      129  1997    Paul Verhoeven      აშშ  105,000,000  121,214,377  \n",
              "3  7.1      124  1999   Stephen Sommers      აშშ   80,000,000  415,885,488  \n",
              "4  7.1      115  2002    Gore Verbinski  იაპონია   48,000,000  249,348,933  "
            ],
            "text/html": [
              "\n",
              "  <div id=\"df-7bc16fa9-773a-4693-9c2a-0638c663f920\" class=\"colab-df-container\">\n",
              "    <div>\n",
              "<style scoped>\n",
              "    .dataframe tbody tr th:only-of-type {\n",
              "        vertical-align: middle;\n",
              "    }\n",
              "\n",
              "    .dataframe tbody tr th {\n",
              "        vertical-align: top;\n",
              "    }\n",
              "\n",
              "    .dataframe thead th {\n",
              "        text-align: right;\n",
              "    }\n",
              "</style>\n",
              "<table border=\"1\" class=\"dataframe\">\n",
              "  <thead>\n",
              "    <tr style=\"text-align: right;\">\n",
              "      <th></th>\n",
              "      <th>name</th>\n",
              "      <th>genre</th>\n",
              "      <th>imdb</th>\n",
              "      <th>duration</th>\n",
              "      <th>year</th>\n",
              "      <th>director</th>\n",
              "      <th>country</th>\n",
              "      <th>budget</th>\n",
              "      <th>revenue</th>\n",
              "    </tr>\n",
              "  </thead>\n",
              "  <tbody>\n",
              "    <tr>\n",
              "      <th>0</th>\n",
              "      <td>კონსტანტინი</td>\n",
              "      <td>დეტექტივი, დრამა, ფანტასტიკა, ფენტეზი, საშინელ...</td>\n",
              "      <td>7.0</td>\n",
              "      <td>121</td>\n",
              "      <td>2005</td>\n",
              "      <td>Francis Lawrence</td>\n",
              "      <td>აშშ</td>\n",
              "      <td>100,000,000</td>\n",
              "      <td>230,884,728</td>\n",
              "    </tr>\n",
              "    <tr>\n",
              "      <th>1</th>\n",
              "      <td>კერკეტი კაკალი</td>\n",
              "      <td>საახალწლო, თრილერი, მძაფრ-სიუჟეტიანი</td>\n",
              "      <td>8.2</td>\n",
              "      <td>131</td>\n",
              "      <td>1988</td>\n",
              "      <td>John McTiernan</td>\n",
              "      <td>აშშ</td>\n",
              "      <td>28,000,000</td>\n",
              "      <td>140,767,956</td>\n",
              "    </tr>\n",
              "    <tr>\n",
              "      <th>2</th>\n",
              "      <td>ვარსკვლავური დესანტი</td>\n",
              "      <td>კრიმინალური, მძაფრ-სიუჟეტიანი, სათავგადასავლო,...</td>\n",
              "      <td>7.3</td>\n",
              "      <td>129</td>\n",
              "      <td>1997</td>\n",
              "      <td>Paul Verhoeven</td>\n",
              "      <td>აშშ</td>\n",
              "      <td>105,000,000</td>\n",
              "      <td>121,214,377</td>\n",
              "    </tr>\n",
              "    <tr>\n",
              "      <th>3</th>\n",
              "      <td>მუმია</td>\n",
              "      <td>მძაფრ-სიუჟეტიანი, სათავგადასავლო, ფენტეზი</td>\n",
              "      <td>7.1</td>\n",
              "      <td>124</td>\n",
              "      <td>1999</td>\n",
              "      <td>Stephen Sommers</td>\n",
              "      <td>აშშ</td>\n",
              "      <td>80,000,000</td>\n",
              "      <td>415,885,488</td>\n",
              "    </tr>\n",
              "    <tr>\n",
              "      <th>4</th>\n",
              "      <td>ზარი</td>\n",
              "      <td>დეტექტივი, საშინელებათა, დეტექტივი</td>\n",
              "      <td>7.1</td>\n",
              "      <td>115</td>\n",
              "      <td>2002</td>\n",
              "      <td>Gore Verbinski</td>\n",
              "      <td>იაპონია</td>\n",
              "      <td>48,000,000</td>\n",
              "      <td>249,348,933</td>\n",
              "    </tr>\n",
              "  </tbody>\n",
              "</table>\n",
              "</div>\n",
              "    <div class=\"colab-df-buttons\">\n",
              "\n",
              "  <div class=\"colab-df-container\">\n",
              "    <button class=\"colab-df-convert\" onclick=\"convertToInteractive('df-7bc16fa9-773a-4693-9c2a-0638c663f920')\"\n",
              "            title=\"Convert this dataframe to an interactive table.\"\n",
              "            style=\"display:none;\">\n",
              "\n",
              "  <svg xmlns=\"http://www.w3.org/2000/svg\" height=\"24px\" viewBox=\"0 -960 960 960\">\n",
              "    <path d=\"M120-120v-720h720v720H120Zm60-500h600v-160H180v160Zm220 220h160v-160H400v160Zm0 220h160v-160H400v160ZM180-400h160v-160H180v160Zm440 0h160v-160H620v160ZM180-180h160v-160H180v160Zm440 0h160v-160H620v160Z\"/>\n",
              "  </svg>\n",
              "    </button>\n",
              "\n",
              "  <style>\n",
              "    .colab-df-container {\n",
              "      display:flex;\n",
              "      gap: 12px;\n",
              "    }\n",
              "\n",
              "    .colab-df-convert {\n",
              "      background-color: #E8F0FE;\n",
              "      border: none;\n",
              "      border-radius: 50%;\n",
              "      cursor: pointer;\n",
              "      display: none;\n",
              "      fill: #1967D2;\n",
              "      height: 32px;\n",
              "      padding: 0 0 0 0;\n",
              "      width: 32px;\n",
              "    }\n",
              "\n",
              "    .colab-df-convert:hover {\n",
              "      background-color: #E2EBFA;\n",
              "      box-shadow: 0px 1px 2px rgba(60, 64, 67, 0.3), 0px 1px 3px 1px rgba(60, 64, 67, 0.15);\n",
              "      fill: #174EA6;\n",
              "    }\n",
              "\n",
              "    .colab-df-buttons div {\n",
              "      margin-bottom: 4px;\n",
              "    }\n",
              "\n",
              "    [theme=dark] .colab-df-convert {\n",
              "      background-color: #3B4455;\n",
              "      fill: #D2E3FC;\n",
              "    }\n",
              "\n",
              "    [theme=dark] .colab-df-convert:hover {\n",
              "      background-color: #434B5C;\n",
              "      box-shadow: 0px 1px 3px 1px rgba(0, 0, 0, 0.15);\n",
              "      filter: drop-shadow(0px 1px 2px rgba(0, 0, 0, 0.3));\n",
              "      fill: #FFFFFF;\n",
              "    }\n",
              "  </style>\n",
              "\n",
              "    <script>\n",
              "      const buttonEl =\n",
              "        document.querySelector('#df-7bc16fa9-773a-4693-9c2a-0638c663f920 button.colab-df-convert');\n",
              "      buttonEl.style.display =\n",
              "        google.colab.kernel.accessAllowed ? 'block' : 'none';\n",
              "\n",
              "      async function convertToInteractive(key) {\n",
              "        const element = document.querySelector('#df-7bc16fa9-773a-4693-9c2a-0638c663f920');\n",
              "        const dataTable =\n",
              "          await google.colab.kernel.invokeFunction('convertToInteractive',\n",
              "                                                    [key], {});\n",
              "        if (!dataTable) return;\n",
              "\n",
              "        const docLinkHtml = 'Like what you see? Visit the ' +\n",
              "          '<a target=\"_blank\" href=https://colab.research.google.com/notebooks/data_table.ipynb>data table notebook</a>'\n",
              "          + ' to learn more about interactive tables.';\n",
              "        element.innerHTML = '';\n",
              "        dataTable['output_type'] = 'display_data';\n",
              "        await google.colab.output.renderOutput(dataTable, element);\n",
              "        const docLink = document.createElement('div');\n",
              "        docLink.innerHTML = docLinkHtml;\n",
              "        element.appendChild(docLink);\n",
              "      }\n",
              "    </script>\n",
              "  </div>\n",
              "\n",
              "\n",
              "<div id=\"df-ac8d7e98-670f-4533-a5d0-f3a0f30d05ae\">\n",
              "  <button class=\"colab-df-quickchart\" onclick=\"quickchart('df-ac8d7e98-670f-4533-a5d0-f3a0f30d05ae')\"\n",
              "            title=\"Suggest charts\"\n",
              "            style=\"display:none;\">\n",
              "\n",
              "<svg xmlns=\"http://www.w3.org/2000/svg\" height=\"24px\"viewBox=\"0 0 24 24\"\n",
              "     width=\"24px\">\n",
              "    <g>\n",
              "        <path d=\"M19 3H5c-1.1 0-2 .9-2 2v14c0 1.1.9 2 2 2h14c1.1 0 2-.9 2-2V5c0-1.1-.9-2-2-2zM9 17H7v-7h2v7zm4 0h-2V7h2v10zm4 0h-2v-4h2v4z\"/>\n",
              "    </g>\n",
              "</svg>\n",
              "  </button>\n",
              "\n",
              "<style>\n",
              "  .colab-df-quickchart {\n",
              "      --bg-color: #E8F0FE;\n",
              "      --fill-color: #1967D2;\n",
              "      --hover-bg-color: #E2EBFA;\n",
              "      --hover-fill-color: #174EA6;\n",
              "      --disabled-fill-color: #AAA;\n",
              "      --disabled-bg-color: #DDD;\n",
              "  }\n",
              "\n",
              "  [theme=dark] .colab-df-quickchart {\n",
              "      --bg-color: #3B4455;\n",
              "      --fill-color: #D2E3FC;\n",
              "      --hover-bg-color: #434B5C;\n",
              "      --hover-fill-color: #FFFFFF;\n",
              "      --disabled-bg-color: #3B4455;\n",
              "      --disabled-fill-color: #666;\n",
              "  }\n",
              "\n",
              "  .colab-df-quickchart {\n",
              "    background-color: var(--bg-color);\n",
              "    border: none;\n",
              "    border-radius: 50%;\n",
              "    cursor: pointer;\n",
              "    display: none;\n",
              "    fill: var(--fill-color);\n",
              "    height: 32px;\n",
              "    padding: 0;\n",
              "    width: 32px;\n",
              "  }\n",
              "\n",
              "  .colab-df-quickchart:hover {\n",
              "    background-color: var(--hover-bg-color);\n",
              "    box-shadow: 0 1px 2px rgba(60, 64, 67, 0.3), 0 1px 3px 1px rgba(60, 64, 67, 0.15);\n",
              "    fill: var(--button-hover-fill-color);\n",
              "  }\n",
              "\n",
              "  .colab-df-quickchart-complete:disabled,\n",
              "  .colab-df-quickchart-complete:disabled:hover {\n",
              "    background-color: var(--disabled-bg-color);\n",
              "    fill: var(--disabled-fill-color);\n",
              "    box-shadow: none;\n",
              "  }\n",
              "\n",
              "  .colab-df-spinner {\n",
              "    border: 2px solid var(--fill-color);\n",
              "    border-color: transparent;\n",
              "    border-bottom-color: var(--fill-color);\n",
              "    animation:\n",
              "      spin 1s steps(1) infinite;\n",
              "  }\n",
              "\n",
              "  @keyframes spin {\n",
              "    0% {\n",
              "      border-color: transparent;\n",
              "      border-bottom-color: var(--fill-color);\n",
              "      border-left-color: var(--fill-color);\n",
              "    }\n",
              "    20% {\n",
              "      border-color: transparent;\n",
              "      border-left-color: var(--fill-color);\n",
              "      border-top-color: var(--fill-color);\n",
              "    }\n",
              "    30% {\n",
              "      border-color: transparent;\n",
              "      border-left-color: var(--fill-color);\n",
              "      border-top-color: var(--fill-color);\n",
              "      border-right-color: var(--fill-color);\n",
              "    }\n",
              "    40% {\n",
              "      border-color: transparent;\n",
              "      border-right-color: var(--fill-color);\n",
              "      border-top-color: var(--fill-color);\n",
              "    }\n",
              "    60% {\n",
              "      border-color: transparent;\n",
              "      border-right-color: var(--fill-color);\n",
              "    }\n",
              "    80% {\n",
              "      border-color: transparent;\n",
              "      border-right-color: var(--fill-color);\n",
              "      border-bottom-color: var(--fill-color);\n",
              "    }\n",
              "    90% {\n",
              "      border-color: transparent;\n",
              "      border-bottom-color: var(--fill-color);\n",
              "    }\n",
              "  }\n",
              "</style>\n",
              "\n",
              "  <script>\n",
              "    async function quickchart(key) {\n",
              "      const quickchartButtonEl =\n",
              "        document.querySelector('#' + key + ' button');\n",
              "      quickchartButtonEl.disabled = true;  // To prevent multiple clicks.\n",
              "      quickchartButtonEl.classList.add('colab-df-spinner');\n",
              "      try {\n",
              "        const charts = await google.colab.kernel.invokeFunction(\n",
              "            'suggestCharts', [key], {});\n",
              "      } catch (error) {\n",
              "        console.error('Error during call to suggestCharts:', error);\n",
              "      }\n",
              "      quickchartButtonEl.classList.remove('colab-df-spinner');\n",
              "      quickchartButtonEl.classList.add('colab-df-quickchart-complete');\n",
              "    }\n",
              "    (() => {\n",
              "      let quickchartButtonEl =\n",
              "        document.querySelector('#df-ac8d7e98-670f-4533-a5d0-f3a0f30d05ae button');\n",
              "      quickchartButtonEl.style.display =\n",
              "        google.colab.kernel.accessAllowed ? 'block' : 'none';\n",
              "    })();\n",
              "  </script>\n",
              "</div>\n",
              "\n",
              "    </div>\n",
              "  </div>\n"
            ]
          },
          "metadata": {},
          "execution_count": 283
        }
      ]
    },
    {
      "cell_type": "code",
      "source": [
        "directors_film_count = {}\n",
        "countries = {}"
      ],
      "metadata": {
        "id": "yDP2j-9c70iT"
      },
      "execution_count": null,
      "outputs": []
    },
    {
      "cell_type": "code",
      "source": [
        "for i in filtered_movies_df['director']:\n",
        "  if i in directors_film_count:\n",
        "    directors_film_count[i] += 1\n",
        "  else:\n",
        "    directors_film_count[i] = 1"
      ],
      "metadata": {
        "id": "qAjg0T5y7_Wp"
      },
      "execution_count": null,
      "outputs": []
    },
    {
      "cell_type": "code",
      "source": [
        "len(directors_film_count)"
      ],
      "metadata": {
        "colab": {
          "base_uri": "https://localhost:8080/"
        },
        "id": "MuJjRkSF9Qvj",
        "outputId": "0ebc7cf9-7dd3-4db2-e6d9-5ac86d0dd114"
      },
      "execution_count": null,
      "outputs": [
        {
          "output_type": "execute_result",
          "data": {
            "text/plain": [
              "1157"
            ]
          },
          "metadata": {},
          "execution_count": 289
        }
      ]
    },
    {
      "cell_type": "code",
      "source": [
        "for k, v in directors_film_count.items():\n",
        "  if v > 4 and k != None:\n",
        "    print(k)"
      ],
      "metadata": {
        "id": "JS63I9319RrL"
      },
      "execution_count": null,
      "outputs": []
    }
  ]
}
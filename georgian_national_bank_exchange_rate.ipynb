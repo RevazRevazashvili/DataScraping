{
  "nbformat": 4,
  "nbformat_minor": 0,
  "metadata": {
    "colab": {
      "provenance": [],
      "authorship_tag": "ABX9TyNDvliqPjEGwlyNLH0lafbn",
      "include_colab_link": true
    },
    "kernelspec": {
      "name": "python3",
      "display_name": "Python 3"
    },
    "language_info": {
      "name": "python"
    }
  },
  "cells": [
    {
      "cell_type": "markdown",
      "metadata": {
        "id": "view-in-github",
        "colab_type": "text"
      },
      "source": [
        "<a href=\"https://colab.research.google.com/github/revaza05/DataScraping/blob/master/georgian_national_bank_exchange_rate.ipynb\" target=\"_parent\"><img src=\"https://colab.research.google.com/assets/colab-badge.svg\" alt=\"Open In Colab\"/></a>"
      ]
    },
    {
      "cell_type": "code",
      "execution_count": 40,
      "metadata": {
        "id": "bAlDHJkuhSD8"
      },
      "outputs": [],
      "source": [
        "from bs4 import BeautifulSoup\n",
        "import requests\n",
        "import pandas as pd\n",
        "import re"
      ]
    },
    {
      "cell_type": "code",
      "source": [
        "url = 'https://nbg.gov.ge/monetary-policy/currency'\n",
        "\n",
        "valuta = requests.get(url)\n",
        "\n",
        "try:\n",
        "  valuta.raise_for_status()\n",
        "  print('successful')\n",
        "except requests.HTTPError as err:\n",
        "  print(f'page does not has acces error{err}')\n",
        "\n",
        "soup = BeautifulSoup(valuta.text, 'html.parser')\n"
      ],
      "metadata": {
        "colab": {
          "base_uri": "https://localhost:8080/"
        },
        "id": "ADtXhHHQhh2D",
        "outputId": "0f88a72e-7f19-4ad5-909d-628e230faa11"
      },
      "execution_count": null,
      "outputs": [
        {
          "output_type": "stream",
          "name": "stdout",
          "text": [
            "successful\n"
          ]
        }
      ]
    },
    {
      "cell_type": "code",
      "source": [
        "table = soup.find('div', class_ = 'mt-3-4 border-b-2 border-grey-400 border-solid')"
      ],
      "metadata": {
        "id": "17cIuKn2aQSM"
      },
      "execution_count": 85,
      "outputs": []
    },
    {
      "cell_type": "code",
      "source": [
        "column_data = table.find_all('div')"
      ],
      "metadata": {
        "id": "tEivQHWshl2g"
      },
      "execution_count": 95,
      "outputs": []
    },
    {
      "cell_type": "code",
      "source": [
        "valutes_array = []\n",
        "for row in range(0, len(column_data), 8):\n",
        "  valutes_array.append(column_data[row].text)"
      ],
      "metadata": {
        "id": "cwgHe3c_kaT6"
      },
      "execution_count": 87,
      "outputs": []
    },
    {
      "cell_type": "code",
      "source": [
        "column_names = [\n",
        "    'English_name',\n",
        "    'Georgian_name',\n",
        "    'Value'\n",
        "]\n",
        "\n",
        "df = pd.DataFrame(columns=column_names)"
      ],
      "metadata": {
        "id": "RztyV6g0azdq"
      },
      "execution_count": 94,
      "outputs": []
    },
    {
      "cell_type": "code",
      "source": [
        "pattern = r'[ა-ჰ]+'\n",
        "pattern1 = r'\\d+\\.\\d+'\n",
        "eng = []\n",
        "geo = []\n",
        "val = []\n",
        "for i in valutes_array:\n",
        "  matches = ' '.join(re.findall(pattern, i))\n",
        "  matches1 = ' '.join(re.findall(pattern1, i))\n",
        "  geo.append(matches)\n",
        "  eng.append(i.split('1')[0])\n",
        "  val.append(matches1)"
      ],
      "metadata": {
        "id": "qxGVhhoNZYtJ"
      },
      "execution_count": 97,
      "outputs": []
    },
    {
      "cell_type": "code",
      "source": [
        "df['English_name'] = eng\n",
        "df['Georgian_name'] = geo\n",
        "df['Value'] = val\n",
        "df"
      ],
      "metadata": {
        "id": "T0TDNrgSb9P9"
      },
      "execution_count": null,
      "outputs": []
    }
  ]
}
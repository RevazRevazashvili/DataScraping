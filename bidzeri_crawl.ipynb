{
  "nbformat": 4,
  "nbformat_minor": 0,
  "metadata": {
    "colab": {
      "provenance": [],
      "authorship_tag": "ABX9TyPWeGEJEn6kUma71iGbWp7Y",
      "include_colab_link": true
    },
    "kernelspec": {
      "name": "python3",
      "display_name": "Python 3"
    },
    "language_info": {
      "name": "python"
    }
  },
  "cells": [
    {
      "cell_type": "markdown",
      "metadata": {
        "id": "view-in-github",
        "colab_type": "text"
      },
      "source": [
        "<a href=\"https://colab.research.google.com/github/RevazRevazashvili/DataScraping/blob/main/bidzeri_crawl.ipynb\" target=\"_parent\"><img src=\"https://colab.research.google.com/assets/colab-badge.svg\" alt=\"Open In Colab\"/></a>"
      ]
    },
    {
      "cell_type": "code",
      "source": [
        "from bs4 import BeautifulSoup\n",
        "import requests\n",
        "import pandas as pd\n",
        "import re"
      ],
      "metadata": {
        "id": "jv0_EVu8Ern_"
      },
      "execution_count": 55,
      "outputs": []
    },
    {
      "cell_type": "code",
      "source": [
        "i = 0\n",
        "heading = []\n",
        "paragraph = []\n",
        "use_case = []\n",
        "while i < 1161:\n",
        "  url = f'https://bidzer.ge/top?page={i}'\n",
        "  page = requests.get(url)\n",
        "  data = BeautifulSoup(page.text, 'html.parser')\n",
        "  h1 = data.select('h1 a')\n",
        "  p = data.find_all('p', class_ = 'post-definition')\n",
        "  use = data.find_all('p', class_ = 'post-use')\n",
        "\n",
        "  for k in range(len(h1)):\n",
        "    heading.append(h1[k].text)\n",
        "    paragraph.append(p[k].text)\n",
        "    use_case.append(use[k].text)\n",
        "\n",
        "  i += 1\n"
      ],
      "metadata": {
        "id": "Z5pVX8tDJwsa"
      },
      "execution_count": 47,
      "outputs": []
    },
    {
      "cell_type": "code",
      "source": [
        "bidzeri_data = pd.DataFrame()"
      ],
      "metadata": {
        "id": "jToy5hJjLtTL"
      },
      "execution_count": 49,
      "outputs": []
    },
    {
      "cell_type": "code",
      "source": [
        "pattern = re.compile(r'[ა-ჰ?!]+')"
      ],
      "metadata": {
        "id": "gK7z6wwOR8eM"
      },
      "execution_count": 71,
      "outputs": []
    },
    {
      "cell_type": "code",
      "source": [
        "for row in range(len(heading)):\n",
        "  use_case[row] = ' '.join(pattern.findall(use_case[row]))\n",
        "  paragraph[row] = ' '.join(pattern.findall(paragraph[row]))"
      ],
      "metadata": {
        "id": "gt-p584lZCpP"
      },
      "execution_count": 64,
      "outputs": []
    },
    {
      "cell_type": "code",
      "source": [
        "bidzeri_data['heading'] = heading\n",
        "bidzeri_data['paragraph'] = paragraph\n",
        "bidzeri_data['use_case'] = use_case"
      ],
      "metadata": {
        "id": "lhIp1O_eMTkq"
      },
      "execution_count": 65,
      "outputs": []
    },
    {
      "cell_type": "code",
      "source": [
        "from google.colab import files\n",
        "\n",
        "bidzeri_data.to_csv('bidzeri-data.csv', index=False)\n",
        "files.download('bidzeri-data.csv')"
      ],
      "metadata": {
        "colab": {
          "base_uri": "https://localhost:8080/",
          "height": 17
        },
        "id": "j2ePeAOYRlVF",
        "outputId": "2505e90a-25e3-43f7-c13a-189d153b78ce"
      },
      "execution_count": 70,
      "outputs": [
        {
          "output_type": "display_data",
          "data": {
            "text/plain": [
              "<IPython.core.display.Javascript object>"
            ],
            "application/javascript": [
              "\n",
              "    async function download(id, filename, size) {\n",
              "      if (!google.colab.kernel.accessAllowed) {\n",
              "        return;\n",
              "      }\n",
              "      const div = document.createElement('div');\n",
              "      const label = document.createElement('label');\n",
              "      label.textContent = `Downloading \"${filename}\": `;\n",
              "      div.appendChild(label);\n",
              "      const progress = document.createElement('progress');\n",
              "      progress.max = size;\n",
              "      div.appendChild(progress);\n",
              "      document.body.appendChild(div);\n",
              "\n",
              "      const buffers = [];\n",
              "      let downloaded = 0;\n",
              "\n",
              "      const channel = await google.colab.kernel.comms.open(id);\n",
              "      // Send a message to notify the kernel that we're ready.\n",
              "      channel.send({})\n",
              "\n",
              "      for await (const message of channel.messages) {\n",
              "        // Send a message to notify the kernel that we're ready.\n",
              "        channel.send({})\n",
              "        if (message.buffers) {\n",
              "          for (const buffer of message.buffers) {\n",
              "            buffers.push(buffer);\n",
              "            downloaded += buffer.byteLength;\n",
              "            progress.value = downloaded;\n",
              "          }\n",
              "        }\n",
              "      }\n",
              "      const blob = new Blob(buffers, {type: 'application/binary'});\n",
              "      const a = document.createElement('a');\n",
              "      a.href = window.URL.createObjectURL(blob);\n",
              "      a.download = filename;\n",
              "      div.appendChild(a);\n",
              "      a.click();\n",
              "      div.remove();\n",
              "    }\n",
              "  "
            ]
          },
          "metadata": {}
        },
        {
          "output_type": "display_data",
          "data": {
            "text/plain": [
              "<IPython.core.display.Javascript object>"
            ],
            "application/javascript": [
              "download(\"download_726fc242-5b2a-43c8-8eee-1037ed2665d6\", \"bidzeri-data.csv\", 5806957)"
            ]
          },
          "metadata": {}
        }
      ]
    }
  ]
}